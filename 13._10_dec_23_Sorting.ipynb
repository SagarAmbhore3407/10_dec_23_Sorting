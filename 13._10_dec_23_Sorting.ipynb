{
 "cells": [
  {
   "cell_type": "markdown",
   "metadata": {},
   "source": [
    "::Sorting::"
   ]
  },
  {
   "cell_type": "code",
   "execution_count": 1,
   "metadata": {},
   "outputs": [
    {
     "name": "stdout",
     "output_type": "stream",
     "text": [
      "[1, 2, 2, 3, 3, 3, 3, 3, 5, 5, 5, 6, 6, 7, 7, 510]\n",
      "Element 3 appears 5 times..\n"
     ]
    }
   ],
   "source": [
    "#1. Given an array of n numbers, give an algorithm which gives the element appearing maximum \n",
    "#   number of times?\n",
    "\n",
    "\n",
    "def sortArray(arr):\n",
    "    for i in range(len(arr)-1,0,-1):\n",
    "        isSorted = True\n",
    "        for j in range(i):\n",
    "            if arr[j] > arr[j+1]:\n",
    "                isSorted = False\n",
    "                arr[j],arr[j+1] = arr[j+1],arr[j]\n",
    "        if isSorted:\n",
    "            return arr\n",
    "    return arr\n",
    "\n",
    "def maxAppearing(arr):\n",
    "    arr = sortArray(arr)\n",
    "    print(arr)\n",
    "    element = arr[0]\n",
    "    count = 0\n",
    "    for i in arr:\n",
    "        elementcount = 1\n",
    "        for j in arr[i+1:]:\n",
    "            if j==i:\n",
    "                elementcount += 1\n",
    "        \n",
    "        if elementcount>count:\n",
    "            count = elementcount\n",
    "            element = arr[i]\n",
    "            \n",
    "    return f\"Element {element} appears {count} times..\"\n",
    "\n",
    "\n",
    "arr = [3,6,7,3,2,1,510,6,3 ,2, 3,3,7,5,5,5]\n",
    "print(maxAppearing(arr))              \n",
    "                \n",
    "        \n",
    "    "
   ]
  },
  {
   "cell_type": "code",
   "execution_count": 2,
   "metadata": {},
   "outputs": [
    {
     "name": "stdout",
     "output_type": "stream",
     "text": [
      "Missing Element = 5\n"
     ]
    }
   ],
   "source": [
    "#2. We are given a list of n-1 integers and these integers are in the range of 1 to n . There are no \n",
    "#   duplicates in the list. One of the integers is missing in the list. Give an algorithm to find that element Ex: \n",
    "#   [1,2,4,6,3,7,8] 5 is the missing num.\n",
    "\n",
    "\n",
    "def selectionsort(arr):\n",
    "    for i in range(len(arr)):\n",
    "        min = i\n",
    "        for j in range(i+1,len(arr)):\n",
    "            if arr[j] < arr[min]:\n",
    "                min = j\n",
    "        arr[min],arr[i] = arr[i],arr[min]\n",
    "    return arr\n",
    "\n",
    "def find_missing(arr):\n",
    "    arr = selectionsort(arr)\n",
    "    missing = f\"There is no missing Element...\"\n",
    "    for i in range(len(arr)-1):\n",
    "        if arr[i+1] != arr[i]+1:\n",
    "            missing = f\"Missing Element = {arr[i]+1}\"\n",
    "            break\n",
    "            \n",
    "    return missing        \n",
    " \n",
    "array = [1,2,8,4,6,3,7]\n",
    "\n",
    "print(find_missing(array))"
   ]
  },
  {
   "cell_type": "code",
   "execution_count": 13,
   "metadata": {},
   "outputs": [
    {
     "name": "stdout",
     "output_type": "stream",
     "text": [
      "Odd Duplicates Element -> 9\n"
     ]
    }
   ],
   "source": [
    "#3. Given an array of n positive numbers. All numbers occurs even number of times except 1 which \n",
    "#   occurs odd number of times. Find that number in O(n) time and O(1) space. Ex: [1,2,3,2,3,1,3]. 3 is repeats odd times.\n",
    "\n",
    "\n",
    "###Not Resolved Solved it again\n",
    "\n",
    "def isOdd(num):\n",
    "    if num%2 == 0 and num>2:\n",
    "        return True\n",
    "    return False\n",
    "\n",
    "def oddDuplicates(arr):\n",
    "    for i in range(len(arr)):\n",
    "        counter = 1\n",
    "        for j in (arr[0:i] + arr[i+1:]):\n",
    "            if j == arr[i]:\n",
    "                counter+=1\n",
    "                \n",
    "        if (counter > 1)and(counter%2 !=0):\n",
    "            return f\"Odd Duplicates Element -> {arr[i]}\"\n",
    "        \n",
    "    return \"No odd repeataion elements..\"\n",
    "   \n",
    "\n",
    "arra = [9,95,5,4,4,3,4,3,4,9,5,5,6,9]\n",
    "print(oddDuplicates(arra))"
   ]
  },
  {
   "cell_type": "code",
   "execution_count": 12,
   "metadata": {},
   "outputs": [
    {
     "name": "stdout",
     "output_type": "stream",
     "text": [
      "[2, 1]\n"
     ]
    }
   ],
   "source": [
    "#4. Given an array of n elements. Find two elements in the array such that their sum is equal to given element K.\n",
    "\n",
    "\n",
    "def findelements(arr,k):\n",
    "    for i in range(len(arr)):\n",
    "        for j in range(i+1,len(arr)):\n",
    "            if arr[i] + arr[j] == k:\n",
    "                return [arr[i],arr[j]] \n",
    "    return f\"There the no elements which sum will be {k}\"    \n",
    "\n",
    "\n",
    "arr = [4,2,8,9,5,1,3]\n",
    "k = 3\n",
    "print(findelements(arr,k))\n",
    "\n",
    "\n"
   ]
  },
  {
   "cell_type": "code",
   "execution_count": 94,
   "metadata": {},
   "outputs": [
    {
     "name": "stdout",
     "output_type": "stream",
     "text": [
      "[-80, 85]\n"
     ]
    }
   ],
   "source": [
    "#5. Given an array of both positive and negative numbers, find two numbers such that their sum is \n",
    "#   closest to 0. Ex: [ 1 ,60 ,-10, 70, -80,85]. Ans : -80,85.\n",
    "\n",
    "def findClosest(arr):\n",
    "    element1 = arr[0]\n",
    "    element2 = arr[1]\n",
    "    min = arr[0] + arr[1]\n",
    "    for i in range(len(arr)):\n",
    "        \n",
    "        for j in range(i+1,len(arr)):\n",
    "            if arr[i] + arr[j] < min:\n",
    "                element1,element2 = arr[i],arr[j]\n",
    "                \n",
    "    return [element1,element2]\n",
    "\n",
    "arr = [ 1 ,60 ,-10, 70, -80,85]\n",
    "print(findClosest(arr))\n",
    "    \n",
    "    "
   ]
  },
  {
   "cell_type": "code",
   "execution_count": 6,
   "metadata": {},
   "outputs": [
    {
     "name": "stdout",
     "output_type": "stream",
     "text": [
      "[6, 2, 2]\n"
     ]
    }
   ],
   "source": [
    "#6. Given an array of n elements . Find three elements such that their sum is equal to the given number.\n",
    "\n",
    "\n",
    "def findThree(arr,k):\n",
    "    \n",
    "    for i in range(len(arr)):\n",
    "        seen = set()\n",
    "        remaining = k-arr[i]\n",
    "        for j in range(i+1,len(arr)):\n",
    "            remains = remaining - arr[j]\n",
    "            if remains in seen:\n",
    "                return [arr[i],remains,arr[j]]\n",
    "            seen.add(arr[j])\n",
    "    return f\"There is no such 3 elements\"\n",
    "\n",
    "            \n",
    "arr=[4,8,6,5,2,9,2]\n",
    "k = 10\n",
    "print(findThree(arr,k))\n",
    "\n",
    "\n",
    "\n"
   ]
  },
  {
   "cell_type": "code",
   "execution_count": 5,
   "metadata": {},
   "outputs": [
    {
     "name": "stdout",
     "output_type": "stream",
     "text": [
      "i*i + j*j = k*k\n",
      "4*4 + 3*3  = 5*5\n",
      "16 + 9 = 25\n",
      "-> [4, 3, 5] \n",
      "\n",
      "There is no such 3 elements \n",
      "\n"
     ]
    }
   ],
   "source": [
    "#7. Given an array of n elements . Find three elements i, j, k in the array such that\n",
    "#   i * i + j * j = k*k.\n",
    "\n",
    "\n",
    "def findIJK(arr):\n",
    "    \n",
    "    for i in range(len(arr)):\n",
    "        k = arr[i]**2\n",
    "        for j in (arr[0:i] + arr[i+1:]):\n",
    "            target = k - (j**2)\n",
    "            seen =set()\n",
    "            for h in (arr[0:i]+arr[i+1:arr.index(j)]+arr[arr.index(j)+1:]):\n",
    "                remains = target - (h**2)\n",
    "                if remains == 0:\n",
    "                    elements = [j,h,arr[i]]\n",
    "                    return f\"i*i + j*j = k*k\\n{j}*{j} + {h}*{h}  = {arr[i]}*{arr[i]}\\n{j**2} + {h**2} = {arr[i]**2}\\n-> {elements}\" \n",
    "                \n",
    "    return f\"There is no such 3 elements\"      \n",
    "        \n",
    "    \n",
    "arr=[4,6,2,3,91,5,4]    \n",
    "print(findIJK(arr),\"\\n\")        \n",
    "      \n",
    "arr=[4,6,2,3,91]    \n",
    "print(findIJK(arr),\"\\n\")    "
   ]
  },
  {
   "cell_type": "code",
   "execution_count": 1,
   "metadata": {},
   "outputs": [
    {
     "name": "stdout",
     "output_type": "stream",
     "text": [
      "Majority Element = 3\n"
     ]
    }
   ],
   "source": [
    "#8. An element is a majority if it appears more than n/2 times. Give an algorithm takes an array of n \n",
    "#   element as argument and identifies a majority (if it exists).\n",
    "\n",
    "def majorityElement(arr):\n",
    "    for  i in range(len(arr)):\n",
    "        count = 1\n",
    "        majority = arr[i]\n",
    "        for j in range(i+1,len(arr)):\n",
    "            if arr[j] == majority:\n",
    "                count+=1\n",
    "                \n",
    "        if count > (len(arr)//2):\n",
    "            return f\"Majority Element = {majority}\"\n",
    "    return f\"There is no Majority Element in array\"    \n",
    "            \n",
    "\n",
    "arr = [10,7,3,5,3,4,3,9,2,3,3,3,3,3]\n",
    "print(majorityElement(arr))"
   ]
  },
  {
   "cell_type": "code",
   "execution_count": 19,
   "metadata": {},
   "outputs": [
    {
     "name": "stdout",
     "output_type": "stream",
     "text": [
      "Row = 3\n",
      "->[1, 0, 0, 0, 0]\n"
     ]
    }
   ],
   "source": [
    "#9 Given n × n matrix, and in each row all 1’s are followed by 0’s. Find the row with the maximum \n",
    "# number of 0’s.\n",
    "\n",
    "\n",
    "def find_row(matrix):\n",
    "    \n",
    "    maxZero_row_index = 0\n",
    "    prevCount = 0\n",
    "    \n",
    "    for row in range(len(matrix)):\n",
    "        currCount = 0\n",
    "        for element in matrix[row]:\n",
    "            if element == 0:\n",
    "                currCount += 1\n",
    "                \n",
    "        if currCount > prevCount:\n",
    "            prevCount = currCount\n",
    "            maxZero_row_index = row\n",
    "            \n",
    "    return f\"Row = {maxZero_row_index}\\n->{matrix[maxZero_row_index]}\"        \n",
    "\n",
    "\n",
    "\n",
    "matrix = [\n",
    "    [1, 1, 1, 0, 0],\n",
    "    [1, 1, 0, 0, 0],\n",
    "    [1, 1, 1, 1, 0],\n",
    "    [1, 0, 0, 0, 0],\n",
    "    [1, 1, 1, 1, 1]\n",
    "]\n",
    "\n",
    "print(find_row(matrix))\n",
    "\n",
    "    "
   ]
  },
  {
   "cell_type": "code",
   "execution_count": 27,
   "metadata": {},
   "outputs": [
    {
     "name": "stdout",
     "output_type": "stream",
     "text": [
      "Sorted Array -> [0, 0, 0, 0, 0, 0, 1, 1, 1, 1, 1, 2, 2]\n"
     ]
    }
   ],
   "source": [
    "\n",
    "#10. Sort an array of 0’s, 1’s and 2’s [or R’s, G’s and B’s]: Given an array A[] consisting of 0’s, 1’s and 2’s,\n",
    "#   give an algorithm for sorting A[].The algorithm should put all 0’s first, then all 1’s and finally all 2’s at the \n",
    "#   end. Example Input = {0,1,1,0,1,2,1,2,0,0,0,1}, Output = {0,0,0,0,0,1,1,1,1,1,2,2}\n",
    "\n",
    "\n",
    "def sortArray(arr):\n",
    "    for i in range(len(arr)-1,0,-1):\n",
    "        for j in range(i):\n",
    "            if arr[j]>arr[j+1]:\n",
    "                arr[j],arr[j+1] = arr[j+1],arr[j]\n",
    "    return f\"Sorted Array -> {arr}\" \n",
    "\n",
    "    \n",
    "    \n",
    "arr = [0,1,1,0,0,1,2,1,2,0,0,0,1]\n",
    "print(sortArray(arr))"
   ]
  },
  {
   "cell_type": "code",
   "execution_count": null,
   "metadata": {},
   "outputs": [],
   "source": []
  }
 ],
 "metadata": {
  "kernelspec": {
   "display_name": "Python 3 (ipykernel)",
   "language": "python",
   "name": "python3"
  },
  "language_info": {
   "codemirror_mode": {
    "name": "ipython",
    "version": 3
   },
   "file_extension": ".py",
   "mimetype": "text/x-python",
   "name": "python",
   "nbconvert_exporter": "python",
   "pygments_lexer": "ipython3",
   "version": "3.10.8"
  }
 },
 "nbformat": 4,
 "nbformat_minor": 4
}
